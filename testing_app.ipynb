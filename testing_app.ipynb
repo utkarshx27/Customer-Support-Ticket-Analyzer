{
 "cells": [
  {
   "cell_type": "code",
   "execution_count": null,
   "id": "cfd3dded",
   "metadata": {},
   "outputs": [
    {
     "name": "stdout",
     "output_type": "stream",
     "text": [
      "Sending POST request to http://localhost:5000/analyze_ticket...\n",
      "\n",
      "✅ Success! Response received:\n",
      "\n",
      "{\n",
      "  \"customer_details\": {\n",
      "    \"account_age_days\": 2,\n",
      "    \"customer_tier\": \"free\",\n",
      "    \"monthly_revenue\": 0,\n",
      "    \"previous_tickets\": 0\n",
      "  },\n",
      "  \"issue_routing\": {\n",
      "    \"confidence_score\": 0.8,\n",
      "    \"issue_type\": \"bug\"\n",
      "  },\n",
      "  \"ticket_details\": {\n",
      "    \"sentiment\": \"negative\",\n",
      "    \"summarized_issue\": \"Customer unable to log in and experiencing issues with the product\",\n",
      "    \"urgency_level\": \"High/P2\"\n",
      "  },\n",
      "  \"ticket_id\": \"SUP-001\"\n",
      "}\n"
     ]
    }
   ],
   "source": [
    "import requests\n",
    "import json\n",
    "with open('test_case.json', 'r') as file:\n",
    "    data = json.load(file)\n",
    "    \n",
    "API_URL = \"http://localhost:5000/analyze_ticket\"\n",
    "\n",
    "test_ticket = data[0]\n",
    "\n",
    "def test_api():\n",
    "    print(f\"Sending POST request to {API_URL}...\\n\")\n",
    "    response = requests.post(API_URL, json=test_ticket)\n",
    "\n",
    "    if response.status_code == 200:\n",
    "        print(\"Success! Response received:\\n\")\n",
    "        print(json.dumps(response.json(), indent=2))\n",
    "    else:\n",
    "        print(f\"Failed with status code {response.status_code}\")\n",
    "        print(\"Response Text:\")\n",
    "        print(response.text)\n",
    "\n",
    "if __name__ == \"__main__\":\n",
    "    test_api()"
   ]
  },
  {
   "cell_type": "code",
   "execution_count": 4,
   "id": "77a0c37b",
   "metadata": {},
   "outputs": [
    {
     "data": {
      "text/plain": [
       "[{'ticket_id': 'SUP-001',\n",
       "  'customer_tier': 'free',\n",
       "  'subject': 'This product is completely broken!!!',\n",
       "  'message': \"Nothing works! I can't even log in. This is the worst software I've ever used.\",\n",
       "  'previous_tickets': 0,\n",
       "  'monthly_revenue': 0,\n",
       "  'account_age_days': 2},\n",
       " {'ticket_id': 'SUP-002',\n",
       "  'customer_tier': 'enterprise',\n",
       "  'subject': 'Minor UI issue with dashboard',\n",
       "  'message': 'Hi team, just noticed the dashboard numbers are slightly misaligned on mobile view.',\n",
       "  'previous_tickets': 15,\n",
       "  'monthly_revenue': 25000,\n",
       "  'account_age_days': 730},\n",
       " {'ticket_id': 'SUP-003',\n",
       "  'customer_tier': 'premium',\n",
       "  'subject': 'Feature Request: Bulk export',\n",
       "  'message': 'We need bulk export functionality for our quarterly reports. Currently exporting one-by-one is tedious.',\n",
       "  'previous_tickets': 5,\n",
       "  'monthly_revenue': 5000,\n",
       "  'account_age_days': 400},\n",
       " {'ticket_id': 'SUP-004',\n",
       "  'customer_tier': 'premium',\n",
       "  'subject': 'API rate limits unclear',\n",
       "  'message': \"Getting rate limited but documentation says we should have 1000 requests/hour. We're getting blocked at 600.\",\n",
       "  'previous_tickets': 8,\n",
       "  'monthly_revenue': 3000,\n",
       "  'account_age_days': 180},\n",
       " {'ticket_id': 'SUP-005',\n",
       "  'customer_tier': 'enterprise',\n",
       "  'subject': 'Urgent: Security vulnerability?',\n",
       "  'message': 'Our security team flagged that your API responses include internal server paths in danger.',\n",
       "  'previous_tickets': 20,\n",
       "  'monthly_revenue': 50000,\n",
       "  'account_age_days': 900}]"
      ]
     },
     "execution_count": 4,
     "metadata": {},
     "output_type": "execute_result"
    }
   ],
   "source": [
    "with open('test_case.json', 'r') as file:\n",
    "    data = json.load(file)\n",
    "\n",
    "data"
   ]
  },
  {
   "cell_type": "code",
   "execution_count": null,
   "id": "e7343c5d",
   "metadata": {},
   "outputs": [],
   "source": []
  }
 ],
 "metadata": {
  "kernelspec": {
   "display_name": "venv",
   "language": "python",
   "name": "python3"
  },
  "language_info": {
   "codemirror_mode": {
    "name": "ipython",
    "version": 3
   },
   "file_extension": ".py",
   "mimetype": "text/x-python",
   "name": "python",
   "nbconvert_exporter": "python",
   "pygments_lexer": "ipython3",
   "version": "3.12.10"
  }
 },
 "nbformat": 4,
 "nbformat_minor": 5
}
