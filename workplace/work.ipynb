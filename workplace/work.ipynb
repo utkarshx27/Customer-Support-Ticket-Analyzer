{
 "cells": [
  {
   "cell_type": "code",
   "execution_count": null,
   "id": "fde1e13a",
   "metadata": {},
   "outputs": [],
   "source": [
    "import nest_asyncio\n",
    "nest_asyncio.apply()\n",
    "from pydantic import BaseModel, Field\n",
    "from pydantic_ai import Agent\n",
    "from pydantic_ai.models.groq import GroqModel\n",
    "import json\n",
    "model= GroqModel('llama-3.1-8b-instant')\n",
    "# agent = Agent(model, system_prompt='Be concise, reply with one sentence.')\n",
    "\n",
    "# result = agent.run_sync('Where does \"hello world\" come from?')\n",
    "# print(result.output)\n"
   ]
  },
  {
   "cell_type": "code",
   "execution_count": null,
   "id": "3e1fc0c9",
   "metadata": {},
   "outputs": [],
   "source": [
    "ticket1= {\n",
    "    \"ticket_id\": \"SUP-001\",\n",
    "    \"customer_tier\": \"free\",\n",
    "    \"subject\": \"This product is completely broken!!!\",\n",
    "    \"message\": \"Nothing works! I can't even log in. This is the worst software I've ever used.\",\n",
    "    \"previous_tickets\": 0,\n",
    "    \"monthly_revenue\": 0,\n",
    "    \"account_age_days\": 2\n",
    "}\n",
    "\n",
    "class TicketAnalysis(BaseModel):\n",
    "    summarized_issue: str= Field(description=\"summarize the issue in short\")\n",
    "    sentiment: str= Field(description=\"Sentiment tone from subject/message: (positive,or neutral, or negative)\")\n",
    "    urgency_level: str= Field(description=\"Urgency level: Critical/P1, High/P2, Medium/P3, Low/P4\")\n",
    "    monthly_revenue: int\n",
    "    account_age_days: int\n",
    "\n",
    "agent= Agent(\n",
    "    model=model,\n",
    "    output_model=TicketAnalysis,\n",
    "    system_prompt=(\n",
    "        \"You are a support ticket analyzer.\\n\"\n",
    "        \"Given a ticket with subject, message, revenue, and account age, perform the following:\\n\"\n",
    "        \"- Summarize the core issue in one short sentence explaining the issue to support.\\n\"\n",
    "        \"- Analyze the customer's tone to determine the sentiment (positive,or neutral, or negative).\\n\"\n",
    "        \"- Based on tone and message content, assess the urgency level as one of: Critical/P1, High/P2, Medium/P3, Low/P4. Only Select One\\n\"\n",
    "        \"Be concise and well structured and do not provied reasons for Tone and Urgency Level.\"\n",
    "    )\n",
    ")\n",
    "\n",
    "result = agent.run_sync(str(ticket1))\n"
   ]
  },
  {
   "cell_type": "code",
   "execution_count": 81,
   "id": "90b1bd93",
   "metadata": {},
   "outputs": [
    {
     "name": "stdout",
     "output_type": "stream",
     "text": [
      "**Ticket Summary:** The customer is experiencing severe issues with login functionality and reports the product as being completely broken.\n",
      "\n",
      "**Tone Sentiment:** Negative\n",
      "\n",
      "**Urgency Level:** Critical/P1\n"
     ]
    }
   ],
   "source": [
    "print(result.output)"
   ]
  },
  {
   "cell_type": "code",
   "execution_count": null,
   "id": "6e0f106c",
   "metadata": {},
   "outputs": [
    {
     "ename": "AttributeError",
     "evalue": "'str' object has no attribute 'model_dump'",
     "output_type": "error",
     "traceback": [
      "\u001b[31m---------------------------------------------------------------------------\u001b[39m",
      "\u001b[31mAttributeError\u001b[39m                            Traceback (most recent call last)",
      "\u001b[36mCell\u001b[39m\u001b[36m \u001b[39m\u001b[32mIn[82]\u001b[39m\u001b[32m, line 2\u001b[39m\n\u001b[32m      1\u001b[39m \u001b[38;5;28;01mimport\u001b[39;00m\u001b[38;5;250m \u001b[39m\u001b[34;01mjson\u001b[39;00m\n\u001b[32m----> \u001b[39m\u001b[32m2\u001b[39m json_output = \u001b[43mresult\u001b[49m\u001b[43m.\u001b[49m\u001b[43moutput\u001b[49m\u001b[43m.\u001b[49m\u001b[43mmodel_dump\u001b[49m()\n\u001b[32m      3\u001b[39m \u001b[38;5;28mprint\u001b[39m(json.dumps(json_output, indent=\u001b[32m2\u001b[39m))\n",
      "\u001b[31mAttributeError\u001b[39m: 'str' object has no attribute 'model_dump'"
     ]
    }
   ],
   "source": [
    "import json\n",
    "json_output= result.output.model_dump()\n",
    "print(json.dumps(json_output, indent=2))"
   ]
  },
  {
   "cell_type": "code",
   "execution_count": null,
   "id": "04aee02b",
   "metadata": {},
   "outputs": [
    {
     "name": "stdout",
     "output_type": "stream",
     "text": [
      "{\n",
      "  \"summarized_issue\": \"API returning 500 errors intermittently\",\n",
      "  \"sentiment\": \"negative\",\n",
      "  \"urgency_level\": \"Critical/P1\",\n",
      "  \"monthly_revenue\": 5000,\n",
      "  \"account_age_days\": 450,\n",
      "  \"previous_tickets\": 3,\n",
      "  \"ticket_id\": 12345,\n",
      "  \"customer_tier\": \"premium\"\n",
      "}\n"
     ]
    }
   ],
   "source": [
    "from pydantic import BaseModel, Field\n",
    "\n",
    "ticket1= {\n",
    "\"ticket_id\": \"12345\",\n",
    "\"customer_tier\": \"premium\", # free/premium/enterprise\n",
    "\"subject\": \"API returning 500 errors intermittently\",\n",
    "\"message\": \"Hi, our production system has been failing\",\n",
    "\"previous_tickets\": 3,\n",
    "\"monthly_revenue\": 5000,\n",
    "\"account_age_days\": 450\n",
    "}\n",
    "\n",
    "class TicketAnalysis(BaseModel):\n",
    "    summarized_issue: str= Field(description=\"summarize the issue in short\")\n",
    "    sentiment: str= Field(description=\"Sentiment tone from subject/message: (positive,or neutral, or negative)\")\n",
    "    urgency_level: str= Field(description=\"Urgency level: Critical/P1, High/P2, Medium/P3, Low/P4\")\n",
    "    monthly_revenue: int\n",
    "    account_age_days: int\n",
    "    previous_tickets: int\n",
    "    ticket_id: int\n",
    "    customer_tier: str\n",
    "\n",
    "model= GroqModel(\"llama-3.1-8b-instant\")\n",
    "agent= Agent(\n",
    "    model=model,\n",
    "    #output_model=TicketAnalysis,\n",
    "    output_type=TicketAnalysis,\n",
    "    system_prompt=(\n",
    "        \"You are a support ticket analyzer.\\n\"\n",
    "        \"Given a ticket with subject, message, revenue, and account age, perform the following:\\n\"\n",
    "        \"- Summarize the core issue in one short sentence explaining the issue to support.\\n\"\n",
    "        \"- Analyze the customer's tone to determine the sentiment (positive,or neutral, or negative).\\n\"\n",
    "        \"- Based on tone and message content and customer tier, assess the urgency level as one of: Critical/P1, High/P2, Medium/P3, Low/P4. Only Select One\\n\"\n",
    "        \"Be concise and well structured and do not provide reasons for Tone and Urgency Level.\"\n",
    "        \"Return ONLY a JSON object with keys: summarized_issue, sentiment, urgency_level, monthly_revenue, account_age_days, previous_tickets, ticket_id, customer_tier.\"\n",
    "    )\n",
    ")\n",
    "\n",
    "result= agent.run_sync(str(ticket1))\n",
    "\n",
    "json_output= result.output.model_dump()\n",
    "print(json.dumps(json_output, indent=2))"
   ]
  },
  {
   "cell_type": "code",
   "execution_count": null,
   "id": "c44bb168",
   "metadata": {},
   "outputs": [
    {
     "ename": "AttributeError",
     "evalue": "'str' object has no attribute 'model_dump'",
     "output_type": "error",
     "traceback": [
      "\u001b[31m---------------------------------------------------------------------------\u001b[39m",
      "\u001b[31mAttributeError\u001b[39m                            Traceback (most recent call last)",
      "\u001b[36mCell\u001b[39m\u001b[36m \u001b[39m\u001b[32mIn[14]\u001b[39m\u001b[32m, line 30\u001b[39m\n\u001b[32m     15\u001b[39m issue_classifier_agent = Agent(\n\u001b[32m     16\u001b[39m     model=model,\n\u001b[32m     17\u001b[39m     output_model=IssueTypeOutput,\n\u001b[32m   (...)\u001b[39m\u001b[32m     25\u001b[39m     )\n\u001b[32m     26\u001b[39m )\n\u001b[32m     28\u001b[39m issue_classifier_agent_result = issue_classifier_agent.run_sync(\u001b[38;5;28mstr\u001b[39m(json_output))\n\u001b[32m---> \u001b[39m\u001b[32m30\u001b[39m issue_classifier_agent_result_json_output = \u001b[43missue_classifier_agent_result\u001b[49m\u001b[43m.\u001b[49m\u001b[43moutput\u001b[49m\u001b[43m.\u001b[49m\u001b[43mmodel_dump\u001b[49m()\n\u001b[32m     31\u001b[39m \u001b[38;5;28mprint\u001b[39m(json.dumps(issue_classifier_agent_result_json_output, indent=\u001b[32m2\u001b[39m))\n",
      "\u001b[31mAttributeError\u001b[39m: 'str' object has no attribute 'model_dump'"
     ]
    }
   ],
   "source": [
    "class IssueTypeOutput(BaseModel):\n",
    "    issue_type: str= Field(\n",
    "        description=\"The category of the issue such as: bug, feature_request, billing, security, login_issue, ui_feedback, documentation, general_query\"\n",
    "    )\n",
    "    confidence_score: float= Field(\n",
    "        description=\"A float between 0 and 1 representing confidence in classification\"\n",
    "    )\n",
    "\n",
    "model = GroqModel(\"llama-3.1-8b-instant\")\n",
    "\n",
    "issue_classifier_agent = Agent(\n",
    "    model=model,\n",
    "    output_model=IssueTypeOutput,\n",
    "    system_prompt=(\n",
    "        \"You are an issue classification expert for customer support.\\n\"\n",
    "        \"Based on the 'subject' and 'message' of a support ticket, classify the issue type.\\n\"\n",
    "        \"Use one of the following categories ONLY: bug, feature_request, billing, security, login_issue, ui_feedback, documentation, general_query.\\n\"\n",
    "        \"Return the issue type and a confidence score between 0 and 1.\\n\"\n",
    "        \"Be objective and concise. Do NOT explain your reasoning.\"\n",
    "        \"Return ONLY a JSON object with keys: issue_type, confidence_score\"\n",
    "    )\n",
    ")\n",
    "\n",
    "issue_classifier_agent_result= issue_classifier_agent.run_sync(str(json_output))\n",
    "\n",
    "# issue_classifier_agent_result_json_output = issue_classifier_agent_result.output.model_dump()\n",
    "# print(json.dumps(issue_classifier_agent_result_json_output, indent=2))\n",
    "\n",
    "parsed_output= IssueTypeOutput.model_validate_json(issue_classifier_agent_result.output)\n",
    "\n",
    "# Now convert to dict and print\n",
    "print(json.dumps(parsed_output.model_dump(), indent=2))"
   ]
  },
  {
   "cell_type": "markdown",
   "id": "c6c033f0",
   "metadata": {},
   "source": [
    "## Final test"
   ]
  },
  {
   "cell_type": "code",
   "execution_count": null,
   "id": "b7075754",
   "metadata": {},
   "outputs": [
    {
     "name": "stdout",
     "output_type": "stream",
     "text": [
      "\n",
      "[Agent 1 Output]\n",
      "{\n",
      "  \"summarized_issue\": \"security vulnerability\",\n",
      "  \"sentiment\": \"negative\",\n",
      "  \"urgency_level\": \"Critical/P1\",\n",
      "  \"monthly_revenue\": 50000,\n",
      "  \"account_age_days\": 900,\n",
      "  \"previous_tickets\": 20,\n",
      "  \"ticket_id\": \"SUP-005\",\n",
      "  \"customer_tier\": \"enterprise\"\n",
      "}\n",
      "\n",
      "[Agent 2 Output]\n",
      "{\n",
      "  \"issue_type\": \"security\",\n",
      "  \"confidence_score\": 0.8\n",
      "}\n",
      "\n",
      "[Final Combined Output]\n",
      "{\n",
      "  \"summarized_issue\": \"security vulnerability\",\n",
      "  \"sentiment\": \"negative\",\n",
      "  \"urgency_level\": \"Critical/P1\",\n",
      "  \"monthly_revenue\": 50000,\n",
      "  \"account_age_days\": 900,\n",
      "  \"previous_tickets\": 20,\n",
      "  \"ticket_id\": \"SUP-005\",\n",
      "  \"customer_tier\": \"enterprise\",\n",
      "  \"issue_type\": \"security\",\n",
      "  \"confidence_score\": 0.8\n",
      "}\n"
     ]
    }
   ],
   "source": [
    "import nest_asyncio\n",
    "nest_asyncio.apply()\n",
    "from pydantic import BaseModel, Field\n",
    "from pydantic_ai import Agent\n",
    "from pydantic_ai.models.groq import GroqModel\n",
    "import json\n",
    "from typing import Union\n",
    "model = GroqModel('llama-3.1-8b-instant')\n",
    "\n",
    "# ticket1 = {\n",
    "#     \"ticket_id\": 12345,\n",
    "#     \"customer_tier\": \"premium\",\n",
    "#     \"subject\": \"API returning 500 errors intermittently\",\n",
    "#     \"message\": \"Hi, our production system has been failing\",\n",
    "#     \"previous_tickets\": 3,\n",
    "#     \"monthly_revenue\": 5000,\n",
    "#     \"account_age_days\": 450\n",
    "# }\n",
    "\n",
    "ticket1= {\n",
    "\"ticket_id\": \"SUP-005\",\n",
    "\"customer_tier\": \"enterprise\",\n",
    "\"subject\": \"Urgent: Security vulnerability?\",\n",
    "\"message\": \"Our security team flagged that your API responses include internal server paths in danger\",\n",
    "\"previous_tickets\": 20,\n",
    "\"monthly_revenue\": 50000,\n",
    "\"account_age_days\": 900\n",
    "}\n",
    "class TicketAnalysis(BaseModel):\n",
    "    summarized_issue: str= Field()\n",
    "    sentiment: str = Field()\n",
    "    urgency_level: str = Field()\n",
    "    monthly_revenue: int\n",
    "    account_age_days: int\n",
    "    previous_tickets: int\n",
    "    ticket_id: Union[str, int] \n",
    "    customer_tier: str\n",
    "\n",
    "model= GroqModel(\"llama-3.1-8b-instant\")\n",
    "\n",
    "analyzer_agent= Agent(\n",
    "    model=model,\n",
    "    output_type=TicketAnalysis,\n",
    "    system_prompt=(\n",
    "        \"You are a support ticket analyzer.\\n\"\n",
    "        \"Given a ticket with subject, message, revenue, and account age, perform the following:\\n\"\n",
    "        \"- Summarize the core issue in one short sentence explaining the issue to support.\\n\"\n",
    "        \"- Analyze the customer's tone to determine the sentiment (positive,or neutral, or negative).\\n\"\n",
    "        \"- Based on tone, content, and customer tier, assess urgency as Critical/P1, High/P2, Medium/P3, Low/P4. Determine urgency level. Even if sentiment is negative, consider customer tier and value. \\n\"\n",
    "        \"Return ONLY a JSON with: summarized_issue, sentiment, urgency_level, monthly_revenue, account_age_days, previous_tickets, ticket_id, customer_tier.\"\n",
    "    )\n",
    ")\n",
    "\n",
    "analyzer_result= analyzer_agent.run_sync(str(ticket1))\n",
    "intermediate_output= analyzer_result.output.model_dump()\n",
    "print(\"\\n[Agent 1 Output]\")\n",
    "print(json.dumps(intermediate_output, indent=2))\n",
    "\n",
    "class IssueTypeOutput(BaseModel):\n",
    "    issue_type: str= Field()\n",
    "    confidence_score: float= Field()\n",
    "\n",
    "issue_classifier_agent= Agent(\n",
    "    model=model,\n",
    "    output_type=IssueTypeOutput,\n",
    "    system_prompt=(\n",
    "        \"You are an issue classification expert for customer support.\\n\"\n",
    "        \"Classify the issue based on the subject and message provided.\\n\"\n",
    "        \"Only use these categories: bug, feature_request, billing, security, login_issue, ui_feedback, documentation, general_query.\\n\"\n",
    "        \"Return a JSON with exactly two fields: issue_type (string), confidence_score (float between 0 and 1).\\n\"\n",
    "        \"Do not explain or add any other text. Output only a JSON object.\"\n",
    "    )\n",
    "\n",
    ")\n",
    "\n",
    "classification_input = {\n",
    "    \"subject\": ticket1[\"subject\"],\n",
    "    \"message\": ticket1[\"message\"]\n",
    "}\n",
    "issue_classifier_result= issue_classifier_agent.run_sync(json.dumps(classification_input))\n",
    "\n",
    "classified_issue= issue_classifier_result.output  \n",
    "print(\"\\n[Agent 2 Output]\")\n",
    "print(json.dumps(classified_issue.model_dump(), indent=2))\n",
    "final_ticket_analysis = {\n",
    "    **intermediate_output,\n",
    "    **classified_issue.model_dump()\n",
    "}\n",
    "\n",
    "print(\"\\n[Final Combined Output]\")\n",
    "print(json.dumps(final_ticket_analysis, indent=2))\n"
   ]
  },
  {
   "cell_type": "code",
   "execution_count": 59,
   "id": "0178a4d7",
   "metadata": {},
   "outputs": [
    {
     "data": {
      "text/plain": [
       "{'summarized_issue': 'security vulnerability',\n",
       " 'sentiment': 'negative',\n",
       " 'urgency_level': 'Critical/P1',\n",
       " 'monthly_revenue': 50000,\n",
       " 'account_age_days': 900,\n",
       " 'previous_tickets': 20,\n",
       " 'ticket_id': 'SUP-005',\n",
       " 'customer_tier': 'enterprise'}"
      ]
     },
     "execution_count": 59,
     "metadata": {},
     "output_type": "execute_result"
    }
   ],
   "source": [
    "intermediate_output"
   ]
  },
  {
   "cell_type": "code",
   "execution_count": 61,
   "id": "daa8a2c1",
   "metadata": {},
   "outputs": [
    {
     "data": {
      "text/plain": [
       "{'issue_type': 'security', 'confidence_score': 0.8}"
      ]
     },
     "execution_count": 61,
     "metadata": {},
     "output_type": "execute_result"
    }
   ],
   "source": [
    "classified_issue.model_dump()"
   ]
  },
  {
   "cell_type": "code",
   "execution_count": 62,
   "id": "282e7075",
   "metadata": {},
   "outputs": [
    {
     "data": {
      "text/plain": [
       "{'ticket_id': 'SUP-005',\n",
       " 'customer_tier': 'enterprise',\n",
       " 'subject': 'Urgent: Security vulnerability?',\n",
       " 'message': 'Our security team flagged that your API responses include internal server paths in danger',\n",
       " 'previous_tickets': 20,\n",
       " 'monthly_revenue': 50000,\n",
       " 'account_age_days': 900}"
      ]
     },
     "execution_count": 62,
     "metadata": {},
     "output_type": "execute_result"
    }
   ],
   "source": [
    "ticket1"
   ]
  }
 ],
 "metadata": {
  "kernelspec": {
   "display_name": "venv",
   "language": "python",
   "name": "python3"
  },
  "language_info": {
   "codemirror_mode": {
    "name": "ipython",
    "version": 3
   },
   "file_extension": ".py",
   "mimetype": "text/x-python",
   "name": "python",
   "nbconvert_exporter": "python",
   "pygments_lexer": "ipython3",
   "version": "3.12.10"
  }
 },
 "nbformat": 4,
 "nbformat_minor": 5
}
